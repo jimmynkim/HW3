{
  "nbformat": 4,
  "nbformat_minor": 0,
  "metadata": {
    "colab": {
      "provenance": []
    },
    "kernelspec": {
      "name": "python3",
      "display_name": "Python 3"
    },
    "language_info": {
      "name": "python"
    }
  },
  "cells": [
    {
      "cell_type": "code",
      "execution_count": null,
      "metadata": {
        "id": "w91mjNqK354A"
      },
      "outputs": [],
      "source": [
        "num_classes = len(label_map)\n",
        "\n",
        "# Update learning rate, batch size, and other parameters\n",
        "lr = 0.00005  # Change the learning rate here\n",
        "batch_size = 32  # Change the batch size here\n",
        "model = UNet(n_class=num_classes)\n",
        "train_dataset = Dataset(TRAIN_DIR, label_map, transform)\n",
        "train_dataloader = DataLoader(train_dataset, batch_size=batch_size, shuffle=True)\n",
        "optimizer = torch.optim.AdamW(model.parameters(), lr)\n",
        "num_epochs = 10\n",
        "device = torch.device(\"cuda:0\" if torch.cuda.is_available() else \"cpu\")\n",
        "loss = FocalLoss()"
      ]
    },
    {
      "cell_type": "code",
      "source": [
        "# Define the optimizer of your choice\n",
        "optimizer = optim.RMSprop(model.parameters(), lr=lr)"
      ],
      "metadata": {
        "id": "olb8NMCm4NZe"
      },
      "execution_count": null,
      "outputs": []
    },
    {
      "cell_type": "code",
      "source": [
        "# Update learning rate, batch size, and other parameters\n",
        "lr = 0.00005  # Change the learning rate here\n",
        "batch_size = 32  # Change the batch size here"
      ],
      "metadata": {
        "id": "bvQ_m2eK4OhF"
      },
      "execution_count": null,
      "outputs": []
    }
  ]
}